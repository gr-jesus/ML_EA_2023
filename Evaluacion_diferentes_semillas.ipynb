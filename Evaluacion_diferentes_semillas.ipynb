{
  "nbformat": 4,
  "nbformat_minor": 0,
  "metadata": {
    "colab": {
      "provenance": []
    },
    "kernelspec": {
      "name": "python3",
      "display_name": "Python 3"
    },
    "language_info": {
      "name": "python"
    }
  },
  "cells": [
    {
      "cell_type": "code",
      "execution_count": null,
      "metadata": {
        "id": "I0KNmh4i_MMW"
      },
      "outputs": [],
      "source": [
        "from sklearn import datasets\n",
        "\n",
        "# Se carga el conjunto de datos\n",
        "iris = datasets.load_iris()\n",
        "X = iris.data[:, :2] \n",
        "y = iris.target\n"
      ]
    },
    {
      "cell_type": "code",
      "source": [
        "# Seleccionar el algoritmo para clasificar\n",
        "from sklearn.svm import SVC\n",
        "from sklearn.ensemble import RandomForestClassifier\n",
        "\n",
        "#classifier=SVC(kernel='poly', degree=4)\n",
        "classifier=RandomForestClassifier(n_estimators=100)"
      ],
      "metadata": {
        "id": "C3dkiip1AxjR"
      },
      "execution_count": null,
      "outputs": []
    },
    {
      "cell_type": "code",
      "source": [
        "# Se normalizan los datos\n",
        "from sklearn import preprocessing\n",
        "from sklearn.metrics import accuracy_score\n",
        "import numpy as np\n",
        "\n",
        "# Se deben realizar repeticiones del algoritmo para observar la variabilidad del\n",
        "# algoritmo con los datos\n",
        "from sklearn.model_selection import train_test_split\n",
        "N_REPETITIONS=100\n",
        "\n",
        "# lista para guardar el accuracy\n",
        "acc=[]\n",
        "\n",
        "for i in range(N_REPETITIONS):\n",
        "  # Seleccion del conjunto de datos estratificada\n",
        "  X_train, X_test, y_train, y_test = train_test_split(X, y, test_size=0.20, stratify=y)\n",
        "\n",
        "  # Se normalizan los datos\n",
        "  min_max_scaler = preprocessing.MinMaxScaler()\n",
        "  X_train = min_max_scaler.fit_transform(X_train)\n",
        "  X_test = min_max_scaler.transform(X_test)\n",
        "\n",
        "  # Se entrena el clasificador\n",
        "  classifier.fit(X_train, y_train)\n",
        "\n",
        "  # Se evalua el modelo\n",
        "  y_pred=classifier.predict(X_test)\n",
        "\n",
        "  # Se encuentra la precision (accuracy)\n",
        "  acc.append(accuracy_score(y_test, y_pred))\n",
        "\n",
        "print(np.mean(np.array(acc)),'+/-',np.std(np.array(acc)))\n",
        "\n"
      ],
      "metadata": {
        "colab": {
          "base_uri": "https://localhost:8080/"
        },
        "id": "U0oqqxF9AceN",
        "outputId": "0925be56-21cf-4c7f-d221-b0121c2815f8"
      },
      "execution_count": null,
      "outputs": [
        {
          "output_type": "stream",
          "name": "stdout",
          "text": [
            "0.7226666666666667 +/- 0.061802552985742894\n"
          ]
        }
      ]
    },
    {
      "cell_type": "code",
      "source": [
        "from sklearn.model_selection import cross_val_score\n",
        "# Se crea el clasificador\n",
        "\n",
        "\n",
        "# Se normalizan los datos\n",
        "min_max_scaler = preprocessing.MinMaxScaler()\n",
        "X_new = min_max_scaler.fit_transform(X)\n"
      ],
      "metadata": {
        "id": "MKNmjmn7IfXD"
      },
      "execution_count": null,
      "outputs": []
    },
    {
      "cell_type": "code",
      "source": [
        "#clf = SVC(kernel='poly', degree=4)\n",
        "clf=RandomForestClassifier(n_estimators=100)\n",
        "# Se evalua con validación cruzada\n",
        "scores = cross_val_score(clf, X_new, y, cv=10)\n",
        "# Se reporta media +/- desviacion estandar\n",
        "print(np.mean(np.array(scores)),'+/-', np.std(np.array(scores)))"
      ],
      "metadata": {
        "colab": {
          "base_uri": "https://localhost:8080/"
        },
        "id": "UPY3dhc5BZ5P",
        "outputId": "0876b45c-b70d-441d-9689-f1598053f24e"
      },
      "execution_count": null,
      "outputs": [
        {
          "output_type": "stream",
          "name": "stdout",
          "text": [
            "0.7333333333333334 +/- 0.09428090415820636\n"
          ]
        }
      ]
    }
  ]
}