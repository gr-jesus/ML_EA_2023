{
  "nbformat": 4,
  "nbformat_minor": 0,
  "metadata": {
    "colab": {
      "provenance": []
    },
    "kernelspec": {
      "name": "python3",
      "display_name": "Python 3"
    },
    "language_info": {
      "name": "python"
    }
  },
  "cells": [
    {
      "cell_type": "code",
      "execution_count": null,
      "metadata": {
        "id": "-GzLK6YgM9w1"
      },
      "outputs": [],
      "source": [
        "from sklearn import datasets\n",
        "from sklearn.svm import SVC\n",
        "from sklearn.model_selection import GridSearchCV\n",
        "\n",
        "# Se carga el conjunto de datos\n",
        "iris = datasets.load_iris()\n",
        "X = iris.data[:, :2] \n",
        "y = iris.target\n"
      ]
    },
    {
      "cell_type": "code",
      "source": [
        "#param_grid = {'max_depth': [3, 5, 10],\n",
        "#              'min_samples_split': [2, 5, 10]}\n",
        "\n",
        "param_grid = {'kernel': ['poly', 'rbf', 'linear', 'sigmoid'],\n",
        "              'C': [1.0, 10.0, 100.0],\n",
        "              'gamma': ['scale','auto']}\n",
        "\n",
        "base_clf=SVC()\n",
        "\n",
        "grid_search=GridSearchCV(base_clf, param_grid, cv=5)\n",
        "grid_search.fit(X,y)\n"
      ],
      "metadata": {
        "colab": {
          "base_uri": "https://localhost:8080/"
        },
        "id": "mBRdAJw8NIKf",
        "outputId": "d98e6d44-d324-4505-eaa0-d70b2e97d3c7"
      },
      "execution_count": null,
      "outputs": [
        {
          "output_type": "execute_result",
          "data": {
            "text/plain": [
              "GridSearchCV(cv=5, estimator=SVC(),\n",
              "             param_grid={'C': [1.0, 10.0, 100.0], 'gamma': ['scale', 'auto'],\n",
              "                         'kernel': ['poly', 'rbf', 'linear', 'sigmoid']})"
            ]
          },
          "metadata": {},
          "execution_count": 2
        }
      ]
    },
    {
      "cell_type": "code",
      "source": [
        "grid_search.cv_results_"
      ],
      "metadata": {
        "colab": {
          "base_uri": "https://localhost:8080/"
        },
        "id": "tFmsPNnLOzYo",
        "outputId": "09148c4d-1174-46c2-91ae-504130f24677"
      },
      "execution_count": null,
      "outputs": [
        {
          "output_type": "execute_result",
          "data": {
            "text/plain": [
              "{'mean_fit_time': array([0.00185776, 0.00066795, 0.00053282, 0.00120792, 0.00614424,\n",
              "        0.00069785, 0.00057135, 0.00103025, 0.00419679, 0.00070629,\n",
              "        0.00060244, 0.00120454, 0.06957564, 0.00078611, 0.00052018,\n",
              "        0.00098233, 0.0412241 , 0.00082679, 0.00077839, 0.00125666,\n",
              "        0.29693685, 0.00085931, 0.00075984, 0.00098472]),\n",
              " 'std_fit_time': array([1.04562392e-03, 3.70581323e-05, 1.60994518e-05, 4.80155367e-05,\n",
              "        3.53360425e-03, 8.50291710e-05, 1.28365909e-04, 6.65570392e-05,\n",
              "        1.54025686e-03, 7.16098607e-05, 8.58889488e-06, 3.02088289e-05,\n",
              "        7.77649430e-02, 1.44624435e-04, 1.24402419e-05, 7.17382448e-06,\n",
              "        2.45972974e-02, 4.61304895e-05, 8.39319279e-05, 7.60921253e-05,\n",
              "        1.14578827e-01, 1.00166952e-04, 7.46520514e-05, 9.73191814e-06]),\n",
              " 'mean_score_time': array([0.00039368, 0.00029945, 0.00025492, 0.00039539, 0.00037613,\n",
              "        0.00032015, 0.0002749 , 0.00034347, 0.00035052, 0.00038552,\n",
              "        0.00026083, 0.00035682, 0.00051451, 0.00036469, 0.00023232,\n",
              "        0.00031991, 0.00054841, 0.00028992, 0.00024538, 0.00034556,\n",
              "        0.00049539, 0.00027909, 0.00024099, 0.00032544]),\n",
              " 'std_score_time': array([1.04234836e-04, 2.96847887e-05, 2.53686331e-05, 8.97306433e-05,\n",
              "        7.66552773e-05, 2.18511116e-05, 2.20559738e-05, 2.43208454e-05,\n",
              "        4.36183256e-05, 1.54378709e-04, 1.90347039e-05, 2.09393959e-05,\n",
              "        1.50441934e-05, 1.11881342e-04, 5.23566331e-06, 7.89651548e-06,\n",
              "        7.98643736e-05, 1.47773366e-05, 1.04495901e-05, 3.84615800e-06,\n",
              "        3.72077840e-05, 1.46479842e-05, 1.10728940e-05, 1.01253538e-05]),\n",
              " 'param_C': masked_array(data=[1.0, 1.0, 1.0, 1.0, 1.0, 1.0, 1.0, 1.0, 10.0, 10.0,\n",
              "                    10.0, 10.0, 10.0, 10.0, 10.0, 10.0, 100.0, 100.0,\n",
              "                    100.0, 100.0, 100.0, 100.0, 100.0, 100.0],\n",
              "              mask=[False, False, False, False, False, False, False, False,\n",
              "                    False, False, False, False, False, False, False, False,\n",
              "                    False, False, False, False, False, False, False, False],\n",
              "        fill_value='?',\n",
              "             dtype=object),\n",
              " 'param_gamma': masked_array(data=['scale', 'scale', 'scale', 'scale', 'auto', 'auto',\n",
              "                    'auto', 'auto', 'scale', 'scale', 'scale', 'scale',\n",
              "                    'auto', 'auto', 'auto', 'auto', 'scale', 'scale',\n",
              "                    'scale', 'scale', 'auto', 'auto', 'auto', 'auto'],\n",
              "              mask=[False, False, False, False, False, False, False, False,\n",
              "                    False, False, False, False, False, False, False, False,\n",
              "                    False, False, False, False, False, False, False, False],\n",
              "        fill_value='?',\n",
              "             dtype=object),\n",
              " 'param_kernel': masked_array(data=['poly', 'rbf', 'linear', 'sigmoid', 'poly', 'rbf',\n",
              "                    'linear', 'sigmoid', 'poly', 'rbf', 'linear',\n",
              "                    'sigmoid', 'poly', 'rbf', 'linear', 'sigmoid', 'poly',\n",
              "                    'rbf', 'linear', 'sigmoid', 'poly', 'rbf', 'linear',\n",
              "                    'sigmoid'],\n",
              "              mask=[False, False, False, False, False, False, False, False,\n",
              "                    False, False, False, False, False, False, False, False,\n",
              "                    False, False, False, False, False, False, False, False],\n",
              "        fill_value='?',\n",
              "             dtype=object),\n",
              " 'params': [{'C': 1.0, 'gamma': 'scale', 'kernel': 'poly'},\n",
              "  {'C': 1.0, 'gamma': 'scale', 'kernel': 'rbf'},\n",
              "  {'C': 1.0, 'gamma': 'scale', 'kernel': 'linear'},\n",
              "  {'C': 1.0, 'gamma': 'scale', 'kernel': 'sigmoid'},\n",
              "  {'C': 1.0, 'gamma': 'auto', 'kernel': 'poly'},\n",
              "  {'C': 1.0, 'gamma': 'auto', 'kernel': 'rbf'},\n",
              "  {'C': 1.0, 'gamma': 'auto', 'kernel': 'linear'},\n",
              "  {'C': 1.0, 'gamma': 'auto', 'kernel': 'sigmoid'},\n",
              "  {'C': 10.0, 'gamma': 'scale', 'kernel': 'poly'},\n",
              "  {'C': 10.0, 'gamma': 'scale', 'kernel': 'rbf'},\n",
              "  {'C': 10.0, 'gamma': 'scale', 'kernel': 'linear'},\n",
              "  {'C': 10.0, 'gamma': 'scale', 'kernel': 'sigmoid'},\n",
              "  {'C': 10.0, 'gamma': 'auto', 'kernel': 'poly'},\n",
              "  {'C': 10.0, 'gamma': 'auto', 'kernel': 'rbf'},\n",
              "  {'C': 10.0, 'gamma': 'auto', 'kernel': 'linear'},\n",
              "  {'C': 10.0, 'gamma': 'auto', 'kernel': 'sigmoid'},\n",
              "  {'C': 100.0, 'gamma': 'scale', 'kernel': 'poly'},\n",
              "  {'C': 100.0, 'gamma': 'scale', 'kernel': 'rbf'},\n",
              "  {'C': 100.0, 'gamma': 'scale', 'kernel': 'linear'},\n",
              "  {'C': 100.0, 'gamma': 'scale', 'kernel': 'sigmoid'},\n",
              "  {'C': 100.0, 'gamma': 'auto', 'kernel': 'poly'},\n",
              "  {'C': 100.0, 'gamma': 'auto', 'kernel': 'rbf'},\n",
              "  {'C': 100.0, 'gamma': 'auto', 'kernel': 'linear'},\n",
              "  {'C': 100.0, 'gamma': 'auto', 'kernel': 'sigmoid'}],\n",
              " 'split0_test_score': array([0.73333333, 0.73333333, 0.73333333, 0.1       , 0.73333333,\n",
              "        0.73333333, 0.73333333, 0.33333333, 0.73333333, 0.73333333,\n",
              "        0.73333333, 0.1       , 0.73333333, 0.73333333, 0.73333333,\n",
              "        0.33333333, 0.73333333, 0.7       , 0.73333333, 0.1       ,\n",
              "        0.73333333, 0.7       , 0.73333333, 0.33333333]),\n",
              " 'split1_test_score': array([0.83333333, 0.86666667, 0.83333333, 0.26666667, 0.83333333,\n",
              "        0.86666667, 0.83333333, 0.33333333, 0.83333333, 0.83333333,\n",
              "        0.83333333, 0.26666667, 0.83333333, 0.86666667, 0.83333333,\n",
              "        0.33333333, 0.83333333, 0.86666667, 0.83333333, 0.26666667,\n",
              "        0.83333333, 0.83333333, 0.83333333, 0.33333333]),\n",
              " 'split2_test_score': array([0.73333333, 0.76666667, 0.76666667, 0.3       , 0.76666667,\n",
              "        0.76666667, 0.76666667, 0.33333333, 0.76666667, 0.8       ,\n",
              "        0.76666667, 0.3       , 0.8       , 0.73333333, 0.76666667,\n",
              "        0.33333333, 0.8       , 0.73333333, 0.76666667, 0.3       ,\n",
              "        0.7       , 0.73333333, 0.76666667, 0.33333333]),\n",
              " 'split3_test_score': array([0.86666667, 0.86666667, 0.86666667, 0.26666667, 0.86666667,\n",
              "        0.86666667, 0.86666667, 0.33333333, 0.86666667, 0.83333333,\n",
              "        0.86666667, 0.26666667, 0.86666667, 0.9       , 0.86666667,\n",
              "        0.33333333, 0.86666667, 0.9       , 0.86666667, 0.26666667,\n",
              "        0.86666667, 0.86666667, 0.86666667, 0.33333333]),\n",
              " 'split4_test_score': array([0.86666667, 0.86666667, 0.83333333, 0.2       , 0.86666667,\n",
              "        0.86666667, 0.83333333, 0.33333333, 0.86666667, 0.86666667,\n",
              "        0.86666667, 0.2       , 0.86666667, 0.83333333, 0.86666667,\n",
              "        0.33333333, 0.86666667, 0.86666667, 0.86666667, 0.2       ,\n",
              "        0.86666667, 0.86666667, 0.86666667, 0.33333333]),\n",
              " 'mean_test_score': array([0.80666667, 0.82      , 0.80666667, 0.22666667, 0.81333333,\n",
              "        0.82      , 0.80666667, 0.33333333, 0.81333333, 0.81333333,\n",
              "        0.81333333, 0.22666667, 0.82      , 0.81333333, 0.81333333,\n",
              "        0.33333333, 0.82      , 0.81333333, 0.81333333, 0.22666667,\n",
              "        0.8       , 0.8       , 0.81333333, 0.33333333]),\n",
              " 'std_test_score': array([0.06110101, 0.05811865, 0.04898979, 0.07118052, 0.05416026,\n",
              "        0.05811865, 0.04898979, 0.        , 0.05416026, 0.04521553,\n",
              "        0.05416026, 0.07118052, 0.04988877, 0.06863753, 0.05416026,\n",
              "        0.        , 0.04988877, 0.08055364, 0.05416026, 0.07118052,\n",
              "        0.06992059, 0.06992059, 0.05416026, 0.        ]),\n",
              " 'rank_test_score': array([14,  1, 14, 22,  5,  1, 14, 19,  5,  5,  5, 22,  1,  5,  5, 19,  1,\n",
              "         5,  5, 22, 17, 17,  5, 19], dtype=int32)}"
            ]
          },
          "metadata": {},
          "execution_count": 3
        }
      ]
    },
    {
      "cell_type": "code",
      "source": [
        "print()\n",
        "print()\n",
        "\n",
        "\n",
        "for rank, params in zip(grid_search.cv_results_['rank_test_score'], grid_search.cv_results_['params']):\n",
        "  print(params, rank)"
      ],
      "metadata": {
        "colab": {
          "base_uri": "https://localhost:8080/"
        },
        "id": "0O74DuL0Pgwi",
        "outputId": "cb95d6fa-3d6f-4588-c533-79e6f887ebf0"
      },
      "execution_count": null,
      "outputs": [
        {
          "output_type": "stream",
          "name": "stdout",
          "text": [
            "\n",
            "\n",
            "{'C': 1.0, 'gamma': 'scale', 'kernel': 'poly'} 14\n",
            "{'C': 1.0, 'gamma': 'scale', 'kernel': 'rbf'} 1\n",
            "{'C': 1.0, 'gamma': 'scale', 'kernel': 'linear'} 14\n",
            "{'C': 1.0, 'gamma': 'scale', 'kernel': 'sigmoid'} 22\n",
            "{'C': 1.0, 'gamma': 'auto', 'kernel': 'poly'} 5\n",
            "{'C': 1.0, 'gamma': 'auto', 'kernel': 'rbf'} 1\n",
            "{'C': 1.0, 'gamma': 'auto', 'kernel': 'linear'} 14\n",
            "{'C': 1.0, 'gamma': 'auto', 'kernel': 'sigmoid'} 19\n",
            "{'C': 10.0, 'gamma': 'scale', 'kernel': 'poly'} 5\n",
            "{'C': 10.0, 'gamma': 'scale', 'kernel': 'rbf'} 5\n",
            "{'C': 10.0, 'gamma': 'scale', 'kernel': 'linear'} 5\n",
            "{'C': 10.0, 'gamma': 'scale', 'kernel': 'sigmoid'} 22\n",
            "{'C': 10.0, 'gamma': 'auto', 'kernel': 'poly'} 1\n",
            "{'C': 10.0, 'gamma': 'auto', 'kernel': 'rbf'} 5\n",
            "{'C': 10.0, 'gamma': 'auto', 'kernel': 'linear'} 5\n",
            "{'C': 10.0, 'gamma': 'auto', 'kernel': 'sigmoid'} 19\n",
            "{'C': 100.0, 'gamma': 'scale', 'kernel': 'poly'} 1\n",
            "{'C': 100.0, 'gamma': 'scale', 'kernel': 'rbf'} 5\n",
            "{'C': 100.0, 'gamma': 'scale', 'kernel': 'linear'} 5\n",
            "{'C': 100.0, 'gamma': 'scale', 'kernel': 'sigmoid'} 22\n",
            "{'C': 100.0, 'gamma': 'auto', 'kernel': 'poly'} 17\n",
            "{'C': 100.0, 'gamma': 'auto', 'kernel': 'rbf'} 17\n",
            "{'C': 100.0, 'gamma': 'auto', 'kernel': 'linear'} 5\n",
            "{'C': 100.0, 'gamma': 'auto', 'kernel': 'sigmoid'} 19\n"
          ]
        }
      ]
    }
  ]
}