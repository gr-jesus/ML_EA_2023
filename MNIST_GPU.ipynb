{
  "nbformat": 4,
  "nbformat_minor": 0,
  "metadata": {
    "colab": {
      "provenance": []
    },
    "kernelspec": {
      "name": "python3",
      "display_name": "Python 3"
    },
    "language_info": {
      "name": "python"
    },
    "accelerator": "GPU",
    "gpuClass": "standard"
  },
  "cells": [
    {
      "cell_type": "code",
      "execution_count": null,
      "metadata": {
        "id": "YUt8Pc6-jv3S"
      },
      "outputs": [],
      "source": [
        "import numpy as np\n",
        "from tensorflow import keras\n",
        "from tensorflow.keras import layers\n",
        "import cupy as cp"
      ]
    },
    {
      "cell_type": "code",
      "source": [
        "# Preparar los datos (secuencial)\n",
        "# código de: https://keras.io/examples/vision/mnist_convnet/\n",
        "\n",
        "# Model / data parameters\n",
        "num_classes = 10\n",
        "input_shape = (28, 28, 1)\n",
        "\n",
        "# Load the data and split it between train and test sets\n",
        "(x_train, y_train), (x_test, y_test) = keras.datasets.mnist.load_data()\n",
        "\n",
        "# Scale images to the [0, 1] range in GPU\n",
        "#x_train = x_train.astype(\"float32\") / 255\n",
        "#x_test = x_test.astype(\"float32\") / 255\n",
        "\n",
        "x_train_gpu=cp.asarray(x_train)\n",
        "# Aqui es donde se normalizan los datos\n",
        "x_train_gpu=cp.divide(x_train_gpu, 255.0)\n",
        "#x_train = cp.asnumpy(x_train_gpu)*8\n",
        "\n",
        "x_test_gpu=cp.asarray(x_test)\n",
        "# Aqui es donde se normalizan los datos\n",
        "x_test_gpu=cp.divide(x_test_gpu, 255.0)\n",
        "#x_test = cp.asnumpy(x_test_gpu)*8\n",
        "\n",
        "\n",
        "# Make sure images have shape (28, 28, 1)\n",
        "x_train = np.expand_dims(x_train, -1)\n",
        "x_test = np.expand_dims(x_test, -1)\n",
        "print(\"x_train shape:\", x_train.shape)\n",
        "print(x_train.shape[0], \"train samples\")\n",
        "print(x_test.shape[0], \"test samples\")\n",
        "\n",
        "\n",
        "# convert class vectors to binary class matrices\n",
        "y_train = keras.utils.to_categorical(y_train, num_classes)\n",
        "y_test = keras.utils.to_categorical(y_test, num_classes)"
      ],
      "metadata": {
        "colab": {
          "base_uri": "https://localhost:8080/"
        },
        "id": "MenksAYRkOlR",
        "outputId": "eb579c7a-0189-4f1c-afd6-16ae7a8ac440"
      },
      "execution_count": null,
      "outputs": [
        {
          "output_type": "stream",
          "name": "stdout",
          "text": [
            "x_train shape: (60000, 28, 28, 1)\n",
            "60000 train samples\n",
            "10000 test samples\n"
          ]
        }
      ]
    },
    {
      "cell_type": "code",
      "source": [
        "# Se crea el modelo\n",
        "model = keras.Sequential(\n",
        "    [\n",
        "        keras.Input(shape=input_shape),\n",
        "        layers.Conv2D(32, kernel_size=(3, 3), activation=\"relu\"),\n",
        "        layers.MaxPooling2D(pool_size=(2, 2)),\n",
        "        layers.Conv2D(64, kernel_size=(3, 3), activation=\"relu\"),\n",
        "        layers.MaxPooling2D(pool_size=(2, 2)),\n",
        "        layers.Flatten(),\n",
        "        layers.Dropout(0.5),\n",
        "        layers.Dense(num_classes, activation=\"softmax\"),\n",
        "    ]\n",
        ")\n",
        "\n",
        "model.summary()\n"
      ],
      "metadata": {
        "colab": {
          "base_uri": "https://localhost:8080/"
        },
        "id": "4eJza396lN_V",
        "outputId": "42deeafa-98f7-423e-fe5e-5e41e1e0992c"
      },
      "execution_count": null,
      "outputs": [
        {
          "output_type": "stream",
          "name": "stdout",
          "text": [
            "Model: \"sequential\"\n",
            "_________________________________________________________________\n",
            " Layer (type)                Output Shape              Param #   \n",
            "=================================================================\n",
            " conv2d (Conv2D)             (None, 26, 26, 32)        320       \n",
            "                                                                 \n",
            " max_pooling2d (MaxPooling2D  (None, 13, 13, 32)       0         \n",
            " )                                                               \n",
            "                                                                 \n",
            " conv2d_1 (Conv2D)           (None, 11, 11, 64)        18496     \n",
            "                                                                 \n",
            " max_pooling2d_1 (MaxPooling  (None, 5, 5, 64)         0         \n",
            " 2D)                                                             \n",
            "                                                                 \n",
            " flatten (Flatten)           (None, 1600)              0         \n",
            "                                                                 \n",
            " dropout (Dropout)           (None, 1600)              0         \n",
            "                                                                 \n",
            " dense (Dense)               (None, 10)                16010     \n",
            "                                                                 \n",
            "=================================================================\n",
            "Total params: 34,826\n",
            "Trainable params: 34,826\n",
            "Non-trainable params: 0\n",
            "_________________________________________________________________\n"
          ]
        }
      ]
    },
    {
      "cell_type": "code",
      "source": [
        "# Se entrena el modelo\n",
        "batch_size = 128\n",
        "epochs = 15\n",
        "\n",
        "model.compile(loss=\"categorical_crossentropy\", optimizer=\"adam\", metrics=[\"accuracy\"])\n",
        "\n",
        "model.fit(x_train, y_train, batch_size=batch_size, epochs=epochs, validation_split=0.1)"
      ],
      "metadata": {
        "colab": {
          "base_uri": "https://localhost:8080/"
        },
        "id": "bO32gq8NlOpe",
        "outputId": "1b0848ec-553e-4f20-d2fd-b5446e70f2e9"
      },
      "execution_count": null,
      "outputs": [
        {
          "output_type": "stream",
          "name": "stdout",
          "text": [
            "Epoch 1/15\n",
            "422/422 [==============================] - 6s 6ms/step - loss: 1.2205 - accuracy: 0.8321 - val_loss: 0.0881 - val_accuracy: 0.9732\n",
            "Epoch 2/15\n",
            "422/422 [==============================] - 3s 6ms/step - loss: 0.1825 - accuracy: 0.9449 - val_loss: 0.0626 - val_accuracy: 0.9812\n",
            "Epoch 3/15\n",
            "422/422 [==============================] - 2s 5ms/step - loss: 0.1341 - accuracy: 0.9591 - val_loss: 0.0532 - val_accuracy: 0.9847\n",
            "Epoch 4/15\n",
            "422/422 [==============================] - 2s 5ms/step - loss: 0.1120 - accuracy: 0.9649 - val_loss: 0.0465 - val_accuracy: 0.9858\n",
            "Epoch 5/15\n",
            "422/422 [==============================] - 2s 5ms/step - loss: 0.0992 - accuracy: 0.9697 - val_loss: 0.0441 - val_accuracy: 0.9878\n",
            "Epoch 6/15\n",
            "422/422 [==============================] - 2s 5ms/step - loss: 0.0904 - accuracy: 0.9719 - val_loss: 0.0468 - val_accuracy: 0.9863\n",
            "Epoch 7/15\n",
            "422/422 [==============================] - 2s 6ms/step - loss: 0.0846 - accuracy: 0.9735 - val_loss: 0.0423 - val_accuracy: 0.9882\n",
            "Epoch 8/15\n",
            "422/422 [==============================] - 2s 6ms/step - loss: 0.0746 - accuracy: 0.9774 - val_loss: 0.0410 - val_accuracy: 0.9870\n",
            "Epoch 9/15\n",
            "422/422 [==============================] - 2s 5ms/step - loss: 0.0722 - accuracy: 0.9783 - val_loss: 0.0436 - val_accuracy: 0.9892\n",
            "Epoch 10/15\n",
            "422/422 [==============================] - 2s 5ms/step - loss: 0.0716 - accuracy: 0.9784 - val_loss: 0.0401 - val_accuracy: 0.9888\n",
            "Epoch 11/15\n",
            "422/422 [==============================] - 2s 5ms/step - loss: 0.0680 - accuracy: 0.9784 - val_loss: 0.0382 - val_accuracy: 0.9902\n",
            "Epoch 12/15\n",
            "422/422 [==============================] - 2s 5ms/step - loss: 0.0605 - accuracy: 0.9811 - val_loss: 0.0441 - val_accuracy: 0.9877\n",
            "Epoch 13/15\n",
            "422/422 [==============================] - 3s 6ms/step - loss: 0.0611 - accuracy: 0.9810 - val_loss: 0.0377 - val_accuracy: 0.9910\n",
            "Epoch 14/15\n",
            "422/422 [==============================] - 2s 5ms/step - loss: 0.0598 - accuracy: 0.9813 - val_loss: 0.0348 - val_accuracy: 0.9910\n",
            "Epoch 15/15\n",
            "422/422 [==============================] - 2s 5ms/step - loss: 0.0575 - accuracy: 0.9820 - val_loss: 0.0425 - val_accuracy: 0.9888\n"
          ]
        },
        {
          "output_type": "execute_result",
          "data": {
            "text/plain": [
              "<keras.callbacks.History at 0x7f072cfbd880>"
            ]
          },
          "metadata": {},
          "execution_count": 4
        }
      ]
    },
    {
      "cell_type": "code",
      "source": [
        "# Evaluación del modelo\n",
        "score = model.evaluate(x_test, y_test, verbose=0)\n",
        "print(\"Test loss:\", score[0])\n",
        "print(\"Test accuracy:\", score[1])\n"
      ],
      "metadata": {
        "colab": {
          "base_uri": "https://localhost:8080/"
        },
        "id": "WFV7moKBlQ6k",
        "outputId": "a5124903-04a4-43b1-a68f-89c58b53088e"
      },
      "execution_count": null,
      "outputs": [
        {
          "output_type": "stream",
          "name": "stdout",
          "text": [
            "Test loss: 0.045106641948223114\n",
            "Test accuracy: 0.9865999817848206\n"
          ]
        }
      ]
    }
  ]
}